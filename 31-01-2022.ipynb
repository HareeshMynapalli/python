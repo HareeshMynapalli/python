{
 "cells": [
  {
   "cell_type": "code",
   "execution_count": 1,
   "id": "57494a10",
   "metadata": {},
   "outputs": [
    {
     "name": "stdout",
     "output_type": "stream",
     "text": [
      "welcome to vasavi college\n"
     ]
    }
   ],
   "source": [
    "print(\"welcome to vasavi college\")"
   ]
  },
  {
   "cell_type": "markdown",
   "id": "8d30fc16",
   "metadata": {},
   "source": [
    "# welcome\n",
    "## welcome\n",
    "### welcome\n",
    "#### welcome\n",
    "##### welcome\n",
    "###### welcome"
   ]
  },
  {
   "cell_type": "markdown",
   "id": "2c146953",
   "metadata": {},
   "source": [
    "**vasavi**"
   ]
  },
  {
   "cell_type": "markdown",
   "id": "1e095920",
   "metadata": {},
   "source": [
    "*vasavi*"
   ]
  },
  {
   "cell_type": "markdown",
   "id": "00ef7680",
   "metadata": {},
   "source": [
    "***vasavi&apssdc***"
   ]
  },
  {
   "cell_type": "markdown",
   "id": "fc737f20",
   "metadata": {},
   "source": [
    "I am from vasavi college first line.  \n",
    "I am Hareesh second line.  \n",
    "I am learning python progamming third line.  "
   ]
  },
  {
   "cell_type": "markdown",
   "id": "52d5e15c",
   "metadata": {},
   "source": [
    "asdflklkjhgdfgghjgh  thghjktyttkj\n",
    "fhrhtwuitjkery  "
   ]
  },
  {
   "cell_type": "markdown",
   "id": "ff5dc8d2",
   "metadata": {},
   "source": [
    "### unorder list  "
   ]
  },
  {
   "cell_type": "markdown",
   "id": "9322acfb",
   "metadata": {},
   "source": [
    "+ one  \n",
    "- two  \n",
    "+ three  \n",
    "* four  \n",
    "    + five  \n",
    "    - six  \n",
    "    * seven  \n",
    "        + eight  \n",
    "        - nine  \n",
    "        * zero  "
   ]
  },
  {
   "cell_type": "markdown",
   "id": "e5906f19",
   "metadata": {},
   "source": [
    "### order list"
   ]
  },
  {
   "cell_type": "markdown",
   "id": "8711ce9a",
   "metadata": {},
   "source": [
    "1. one  \n",
    "2. two  \n",
    "3. three  \n",
    "4. four  \n",
    "    5. five  \n",
    "    6. six  \n",
    "    7. seven  \n",
    "        8. eight  \n",
    "        9. nine  \n",
    "        10. ten  \n",
    "    "
   ]
  },
  {
   "cell_type": "markdown",
   "id": "eea5d3cc",
   "metadata": {},
   "source": [
    "### Comments\n",
    "- user readable information or data  \n",
    "- comments doesnot exicute  \n",
    "- it is mentioned in '#'\n",
    "- for multiple line comment mention in the formation of ''' '''."
   ]
  },
  {
   "cell_type": "markdown",
   "id": "3ff6b752",
   "metadata": {},
   "source": [
    "### Variable\n",
    "- which is used to storing data\n",
    "- variable starts with characters,underscore\n",
    "- variable couldnot start with numbers,special symbols,keywords"
   ]
  },
  {
   "cell_type": "markdown",
   "id": "1a771a6a",
   "metadata": {},
   "source": [
    "### Datatypes\n",
    "- int(all integer values)\n",
    "- float(integer with decimal point)\n",
    "- str(combination of characters or goup of characters)\n",
    "- complex(number with real and imaginary part)\n",
    "- boolean(True&False)"
   ]
  },
  {
   "cell_type": "code",
   "execution_count": 8,
   "id": "d10908a8",
   "metadata": {},
   "outputs": [],
   "source": [
    "a=765\n",
    "b=54.67\n",
    "c=\"apssdc\"\n",
    "d='p'\n",
    "e=1+2j\n",
    "f='1+2j'\n",
    "g=True"
   ]
  },
  {
   "cell_type": "code",
   "execution_count": 9,
   "id": "d5e35b05",
   "metadata": {},
   "outputs": [
    {
     "name": "stdout",
     "output_type": "stream",
     "text": [
      "<class 'int'>\n",
      "<class 'float'>\n",
      "<class 'str'>\n",
      "<class 'str'>\n",
      "<class 'complex'>\n",
      "<class 'str'>\n",
      "<class 'bool'>\n"
     ]
    }
   ],
   "source": [
    "print(type(a))\n",
    "print(type(b))\n",
    "print(type(c))\n",
    "print(type(d))\n",
    "print(type(e))\n",
    "print(type(f))\n",
    "print(type(g))"
   ]
  },
  {
   "cell_type": "markdown",
   "id": "e83dfae9",
   "metadata": {},
   "source": [
    "### Typecasting\n",
    "- which converts the data from one datatype to another datatype"
   ]
  },
  {
   "cell_type": "code",
   "execution_count": 10,
   "id": "691ea581",
   "metadata": {},
   "outputs": [
    {
     "name": "stdout",
     "output_type": "stream",
     "text": [
      "<class 'int'>\n"
     ]
    }
   ],
   "source": [
    "_abc=458\n",
    "print(type(_abc))"
   ]
  },
  {
   "cell_type": "code",
   "execution_count": 11,
   "id": "da4d3d58",
   "metadata": {},
   "outputs": [
    {
     "name": "stdout",
     "output_type": "stream",
     "text": [
      "<class 'str'>\n"
     ]
    }
   ],
   "source": [
    "z=str(_abc)\n",
    "print(type(z))"
   ]
  },
  {
   "cell_type": "code",
   "execution_count": 13,
   "id": "8311776d",
   "metadata": {},
   "outputs": [
    {
     "name": "stdout",
     "output_type": "stream",
     "text": [
      "<class 'float'>\n",
      "458.0\n"
     ]
    }
   ],
   "source": [
    "z=float(_abc)\n",
    "print(type(z))\n",
    "print(z)"
   ]
  },
  {
   "cell_type": "code",
   "execution_count": 16,
   "id": "99c3d0e8",
   "metadata": {},
   "outputs": [
    {
     "name": "stdout",
     "output_type": "stream",
     "text": [
      "<class 'complex'>\n",
      "(458+0j)\n"
     ]
    }
   ],
   "source": [
    "z=complex(_abc)\n",
    "print(type(z))\n",
    "print(z)"
   ]
  },
  {
   "cell_type": "code",
   "execution_count": 21,
   "id": "4a16bb4c",
   "metadata": {},
   "outputs": [
    {
     "name": "stdout",
     "output_type": "stream",
     "text": [
      "<class 'str'>\n"
     ]
    }
   ],
   "source": [
    "abc=\"vasvai college\"\n",
    "print(type(_abc))"
   ]
  },
  {
   "cell_type": "code",
   "execution_count": null,
   "id": "d409b684",
   "metadata": {},
   "outputs": [],
   "source": [
    "z=int(abc)\n",
    "print(type(z))\n",
    "print(z)"
   ]
  },
  {
   "cell_type": "code",
   "execution_count": null,
   "id": "83008afb",
   "metadata": {},
   "outputs": [],
   "source": []
  }
 ],
 "metadata": {
  "kernelspec": {
   "display_name": "Python 3 (ipykernel)",
   "language": "python",
   "name": "python3"
  },
  "language_info": {
   "codemirror_mode": {
    "name": "ipython",
    "version": 3
   },
   "file_extension": ".py",
   "mimetype": "text/x-python",
   "name": "python",
   "nbconvert_exporter": "python",
   "pygments_lexer": "ipython3",
   "version": "3.9.7"
  }
 },
 "nbformat": 4,
 "nbformat_minor": 5
}
